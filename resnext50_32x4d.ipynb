{
  "nbformat": 4,
  "nbformat_minor": 0,
  "metadata": {
    "accelerator": "GPU",
    "colab": {
      "name": "resnext50_32x4d.ipynb",
      "provenance": [],
      "collapsed_sections": []
    },
    "kernelspec": {
      "display_name": "Python 3",
      "language": "python",
      "name": "python3"
    },
    "language_info": {
      "codemirror_mode": {
        "name": "ipython",
        "version": 3
      },
      "file_extension": ".py",
      "mimetype": "text/x-python",
      "name": "python",
      "nbconvert_exporter": "python",
      "pygments_lexer": "ipython3",
      "version": "3.7.6"
    },
    "widgets": {
      "application/vnd.jupyter.widget-state+json": {
        "788b7748d8204c6ea0a1563e3b7e428b": {
          "model_module": "@jupyter-widgets/controls",
          "model_name": "HBoxModel",
          "state": {
            "_dom_classes": [],
            "_model_module": "@jupyter-widgets/controls",
            "_model_module_version": "1.5.0",
            "_model_name": "HBoxModel",
            "_view_count": null,
            "_view_module": "@jupyter-widgets/controls",
            "_view_module_version": "1.5.0",
            "_view_name": "HBoxView",
            "box_style": "",
            "children": [
              "IPY_MODEL_a423c9b5888746ba9fa36a2f01b4038d",
              "IPY_MODEL_3d8a719dc4884426a5d2c9c47a1009fb"
            ],
            "layout": "IPY_MODEL_a4df7de8c1344a15bdb23889a38c20e5"
          }
        },
        "a4df7de8c1344a15bdb23889a38c20e5": {
          "model_module": "@jupyter-widgets/base",
          "model_name": "LayoutModel",
          "state": {
            "_model_module": "@jupyter-widgets/base",
            "_model_module_version": "1.2.0",
            "_model_name": "LayoutModel",
            "_view_count": null,
            "_view_module": "@jupyter-widgets/base",
            "_view_module_version": "1.2.0",
            "_view_name": "LayoutView",
            "align_content": null,
            "align_items": null,
            "align_self": null,
            "border": null,
            "bottom": null,
            "display": null,
            "flex": null,
            "flex_flow": null,
            "grid_area": null,
            "grid_auto_columns": null,
            "grid_auto_flow": null,
            "grid_auto_rows": null,
            "grid_column": null,
            "grid_gap": null,
            "grid_row": null,
            "grid_template_areas": null,
            "grid_template_columns": null,
            "grid_template_rows": null,
            "height": null,
            "justify_content": null,
            "justify_items": null,
            "left": null,
            "margin": null,
            "max_height": null,
            "max_width": null,
            "min_height": null,
            "min_width": null,
            "object_fit": null,
            "object_position": null,
            "order": null,
            "overflow": null,
            "overflow_x": null,
            "overflow_y": null,
            "padding": null,
            "right": null,
            "top": null,
            "visibility": null,
            "width": null
          }
        },
        "a423c9b5888746ba9fa36a2f01b4038d": {
          "model_module": "@jupyter-widgets/controls",
          "model_name": "FloatProgressModel",
          "state": {
            "_dom_classes": [],
            "_model_module": "@jupyter-widgets/controls",
            "_model_module_version": "1.5.0",
            "_model_name": "FloatProgressModel",
            "_view_count": null,
            "_view_module": "@jupyter-widgets/controls",
            "_view_module_version": "1.5.0",
            "_view_name": "ProgressView",
            "bar_style": "success",
            "description": "",
            "description_tooltip": null,
            "layout": "IPY_MODEL_13e49ead6a934470ad75ff501e0166d7",
            "max": 170498071,
            "min": 0,
            "orientation": "horizontal",
            "style": "IPY_MODEL_8571b3b128604e5eb5cd4579c6d515d6",
            "value": 170498071
          }
        },
        "3d8a719dc4884426a5d2c9c47a1009fb": {
          "model_module": "@jupyter-widgets/controls",
          "model_name": "HTMLModel",
          "state": {
            "_dom_classes": [],
            "_model_module": "@jupyter-widgets/controls",
            "_model_module_version": "1.5.0",
            "_model_name": "HTMLModel",
            "_view_count": null,
            "_view_module": "@jupyter-widgets/controls",
            "_view_module_version": "1.5.0",
            "_view_name": "HTMLView",
            "description": "",
            "description_tooltip": null,
            "layout": "IPY_MODEL_8b347cafa3a542ad8ef2897c7659d5ea",
            "placeholder": "​",
            "style": "IPY_MODEL_59fff94663cd486fae82da053bb5f288",
            "value": " 170499072/? [00:22&lt;00:00, 7432797.99it/s]"
          }
        },
        "8571b3b128604e5eb5cd4579c6d515d6": {
          "model_module": "@jupyter-widgets/controls",
          "model_name": "ProgressStyleModel",
          "state": {
            "_model_module": "@jupyter-widgets/controls",
            "_model_module_version": "1.5.0",
            "_model_name": "ProgressStyleModel",
            "_view_count": null,
            "_view_module": "@jupyter-widgets/base",
            "_view_module_version": "1.2.0",
            "_view_name": "StyleView",
            "bar_color": null,
            "description_width": "initial"
          }
        },
        "13e49ead6a934470ad75ff501e0166d7": {
          "model_module": "@jupyter-widgets/base",
          "model_name": "LayoutModel",
          "state": {
            "_model_module": "@jupyter-widgets/base",
            "_model_module_version": "1.2.0",
            "_model_name": "LayoutModel",
            "_view_count": null,
            "_view_module": "@jupyter-widgets/base",
            "_view_module_version": "1.2.0",
            "_view_name": "LayoutView",
            "align_content": null,
            "align_items": null,
            "align_self": null,
            "border": null,
            "bottom": null,
            "display": null,
            "flex": null,
            "flex_flow": null,
            "grid_area": null,
            "grid_auto_columns": null,
            "grid_auto_flow": null,
            "grid_auto_rows": null,
            "grid_column": null,
            "grid_gap": null,
            "grid_row": null,
            "grid_template_areas": null,
            "grid_template_columns": null,
            "grid_template_rows": null,
            "height": null,
            "justify_content": null,
            "justify_items": null,
            "left": null,
            "margin": null,
            "max_height": null,
            "max_width": null,
            "min_height": null,
            "min_width": null,
            "object_fit": null,
            "object_position": null,
            "order": null,
            "overflow": null,
            "overflow_x": null,
            "overflow_y": null,
            "padding": null,
            "right": null,
            "top": null,
            "visibility": null,
            "width": null
          }
        },
        "59fff94663cd486fae82da053bb5f288": {
          "model_module": "@jupyter-widgets/controls",
          "model_name": "DescriptionStyleModel",
          "state": {
            "_model_module": "@jupyter-widgets/controls",
            "_model_module_version": "1.5.0",
            "_model_name": "DescriptionStyleModel",
            "_view_count": null,
            "_view_module": "@jupyter-widgets/base",
            "_view_module_version": "1.2.0",
            "_view_name": "StyleView",
            "description_width": ""
          }
        },
        "8b347cafa3a542ad8ef2897c7659d5ea": {
          "model_module": "@jupyter-widgets/base",
          "model_name": "LayoutModel",
          "state": {
            "_model_module": "@jupyter-widgets/base",
            "_model_module_version": "1.2.0",
            "_model_name": "LayoutModel",
            "_view_count": null,
            "_view_module": "@jupyter-widgets/base",
            "_view_module_version": "1.2.0",
            "_view_name": "LayoutView",
            "align_content": null,
            "align_items": null,
            "align_self": null,
            "border": null,
            "bottom": null,
            "display": null,
            "flex": null,
            "flex_flow": null,
            "grid_area": null,
            "grid_auto_columns": null,
            "grid_auto_flow": null,
            "grid_auto_rows": null,
            "grid_column": null,
            "grid_gap": null,
            "grid_row": null,
            "grid_template_areas": null,
            "grid_template_columns": null,
            "grid_template_rows": null,
            "height": null,
            "justify_content": null,
            "justify_items": null,
            "left": null,
            "margin": null,
            "max_height": null,
            "max_width": null,
            "min_height": null,
            "min_width": null,
            "object_fit": null,
            "object_position": null,
            "order": null,
            "overflow": null,
            "overflow_x": null,
            "overflow_y": null,
            "padding": null,
            "right": null,
            "top": null,
            "visibility": null,
            "width": null
          }
        },
        "478917cfaa8f4350900339e04af999cd": {
          "model_module": "@jupyter-widgets/controls",
          "model_name": "HBoxModel",
          "state": {
            "_dom_classes": [],
            "_model_module": "@jupyter-widgets/controls",
            "_model_module_version": "1.5.0",
            "_model_name": "HBoxModel",
            "_view_count": null,
            "_view_module": "@jupyter-widgets/controls",
            "_view_module_version": "1.5.0",
            "_view_name": "HBoxView",
            "box_style": "",
            "children": [
              "IPY_MODEL_3a1c49af90fd4bffa9743dbf2bcbfbfe",
              "IPY_MODEL_931a4e47c0d0471db898892bb2a2d5f0"
            ],
            "layout": "IPY_MODEL_9d332c11b01d4d74b7789590a8fcf93c"
          }
        },
        "9d332c11b01d4d74b7789590a8fcf93c": {
          "model_module": "@jupyter-widgets/base",
          "model_name": "LayoutModel",
          "state": {
            "_model_module": "@jupyter-widgets/base",
            "_model_module_version": "1.2.0",
            "_model_name": "LayoutModel",
            "_view_count": null,
            "_view_module": "@jupyter-widgets/base",
            "_view_module_version": "1.2.0",
            "_view_name": "LayoutView",
            "align_content": null,
            "align_items": null,
            "align_self": null,
            "border": null,
            "bottom": null,
            "display": null,
            "flex": null,
            "flex_flow": null,
            "grid_area": null,
            "grid_auto_columns": null,
            "grid_auto_flow": null,
            "grid_auto_rows": null,
            "grid_column": null,
            "grid_gap": null,
            "grid_row": null,
            "grid_template_areas": null,
            "grid_template_columns": null,
            "grid_template_rows": null,
            "height": null,
            "justify_content": null,
            "justify_items": null,
            "left": null,
            "margin": null,
            "max_height": null,
            "max_width": null,
            "min_height": null,
            "min_width": null,
            "object_fit": null,
            "object_position": null,
            "order": null,
            "overflow": null,
            "overflow_x": null,
            "overflow_y": null,
            "padding": null,
            "right": null,
            "top": null,
            "visibility": null,
            "width": null
          }
        },
        "3a1c49af90fd4bffa9743dbf2bcbfbfe": {
          "model_module": "@jupyter-widgets/controls",
          "model_name": "FloatProgressModel",
          "state": {
            "_dom_classes": [],
            "_model_module": "@jupyter-widgets/controls",
            "_model_module_version": "1.5.0",
            "_model_name": "FloatProgressModel",
            "_view_count": null,
            "_view_module": "@jupyter-widgets/controls",
            "_view_module_version": "1.5.0",
            "_view_name": "ProgressView",
            "bar_style": "success",
            "description": "100%",
            "description_tooltip": null,
            "layout": "IPY_MODEL_3d7e7136484c4c9186acc8ac91da0041",
            "max": 100441675,
            "min": 0,
            "orientation": "horizontal",
            "style": "IPY_MODEL_9811c33335b44320960c984d3396a4c3",
            "value": 100441675
          }
        },
        "931a4e47c0d0471db898892bb2a2d5f0": {
          "model_module": "@jupyter-widgets/controls",
          "model_name": "HTMLModel",
          "state": {
            "_dom_classes": [],
            "_model_module": "@jupyter-widgets/controls",
            "_model_module_version": "1.5.0",
            "_model_name": "HTMLModel",
            "_view_count": null,
            "_view_module": "@jupyter-widgets/controls",
            "_view_module_version": "1.5.0",
            "_view_name": "HTMLView",
            "description": "",
            "description_tooltip": null,
            "layout": "IPY_MODEL_784792819de84836b95c417304779a39",
            "placeholder": "​",
            "style": "IPY_MODEL_de2f908acc264ed98abd86c7efa1a4f4",
            "value": " 95.8M/95.8M [00:15&lt;00:00, 6.47MB/s]"
          }
        },
        "9811c33335b44320960c984d3396a4c3": {
          "model_module": "@jupyter-widgets/controls",
          "model_name": "ProgressStyleModel",
          "state": {
            "_model_module": "@jupyter-widgets/controls",
            "_model_module_version": "1.5.0",
            "_model_name": "ProgressStyleModel",
            "_view_count": null,
            "_view_module": "@jupyter-widgets/base",
            "_view_module_version": "1.2.0",
            "_view_name": "StyleView",
            "bar_color": null,
            "description_width": "initial"
          }
        },
        "3d7e7136484c4c9186acc8ac91da0041": {
          "model_module": "@jupyter-widgets/base",
          "model_name": "LayoutModel",
          "state": {
            "_model_module": "@jupyter-widgets/base",
            "_model_module_version": "1.2.0",
            "_model_name": "LayoutModel",
            "_view_count": null,
            "_view_module": "@jupyter-widgets/base",
            "_view_module_version": "1.2.0",
            "_view_name": "LayoutView",
            "align_content": null,
            "align_items": null,
            "align_self": null,
            "border": null,
            "bottom": null,
            "display": null,
            "flex": null,
            "flex_flow": null,
            "grid_area": null,
            "grid_auto_columns": null,
            "grid_auto_flow": null,
            "grid_auto_rows": null,
            "grid_column": null,
            "grid_gap": null,
            "grid_row": null,
            "grid_template_areas": null,
            "grid_template_columns": null,
            "grid_template_rows": null,
            "height": null,
            "justify_content": null,
            "justify_items": null,
            "left": null,
            "margin": null,
            "max_height": null,
            "max_width": null,
            "min_height": null,
            "min_width": null,
            "object_fit": null,
            "object_position": null,
            "order": null,
            "overflow": null,
            "overflow_x": null,
            "overflow_y": null,
            "padding": null,
            "right": null,
            "top": null,
            "visibility": null,
            "width": null
          }
        },
        "de2f908acc264ed98abd86c7efa1a4f4": {
          "model_module": "@jupyter-widgets/controls",
          "model_name": "DescriptionStyleModel",
          "state": {
            "_model_module": "@jupyter-widgets/controls",
            "_model_module_version": "1.5.0",
            "_model_name": "DescriptionStyleModel",
            "_view_count": null,
            "_view_module": "@jupyter-widgets/base",
            "_view_module_version": "1.2.0",
            "_view_name": "StyleView",
            "description_width": ""
          }
        },
        "784792819de84836b95c417304779a39": {
          "model_module": "@jupyter-widgets/base",
          "model_name": "LayoutModel",
          "state": {
            "_model_module": "@jupyter-widgets/base",
            "_model_module_version": "1.2.0",
            "_model_name": "LayoutModel",
            "_view_count": null,
            "_view_module": "@jupyter-widgets/base",
            "_view_module_version": "1.2.0",
            "_view_name": "LayoutView",
            "align_content": null,
            "align_items": null,
            "align_self": null,
            "border": null,
            "bottom": null,
            "display": null,
            "flex": null,
            "flex_flow": null,
            "grid_area": null,
            "grid_auto_columns": null,
            "grid_auto_flow": null,
            "grid_auto_rows": null,
            "grid_column": null,
            "grid_gap": null,
            "grid_row": null,
            "grid_template_areas": null,
            "grid_template_columns": null,
            "grid_template_rows": null,
            "height": null,
            "justify_content": null,
            "justify_items": null,
            "left": null,
            "margin": null,
            "max_height": null,
            "max_width": null,
            "min_height": null,
            "min_width": null,
            "object_fit": null,
            "object_position": null,
            "order": null,
            "overflow": null,
            "overflow_x": null,
            "overflow_y": null,
            "padding": null,
            "right": null,
            "top": null,
            "visibility": null,
            "width": null
          }
        }
      }
    }
  },
  "cells": [
    {
      "cell_type": "code",
      "metadata": {
        "id": "d2Km7pTqxxJz"
      },
      "source": [
        "%matplotlib inline\n",
        "from copy import deepcopy\n",
        "from collections import OrderedDict\n",
        "import gc\n",
        "import matplotlib.pyplot as plt\n",
        "from tqdm import tqdm_notebook\n",
        "import numpy as np\n",
        "import pandas as pd\n",
        "import torch\n",
        "import torch.nn as nn\n",
        "import torch.nn.functional as F\n",
        "from torch.optim import SGD,Adam,lr_scheduler\n",
        "from torch.utils.data import random_split\n",
        "import torchvision\n",
        "from torchvision import transforms,models"
      ],
      "execution_count": null,
      "outputs": []
    },
    {
      "cell_type": "code",
      "metadata": {
        "colab": {
          "base_uri": "https://localhost:8080/"
        },
        "id": "llf4-s-3x0OT",
        "outputId": "9197532e-9752-4b70-99f6-92ec94339350"
      },
      "source": [
        "!tar -zxvf ../input/cifar10-python/cifar-10-python.tar.gz\n"
      ],
      "execution_count": null,
      "outputs": [
        {
          "output_type": "stream",
          "text": [
            "tar (child): ../input/cifar10-python/cifar-10-python.tar.gz: Cannot open: No such file or directory\n",
            "tar (child): Error is not recoverable: exiting now\n",
            "tar: Child returned status 2\n",
            "tar: Error is not recoverable: exiting now\n"
          ],
          "name": "stdout"
        }
      ]
    },
    {
      "cell_type": "code",
      "metadata": {
        "colab": {
          "base_uri": "https://localhost:8080/",
          "height": 99,
          "referenced_widgets": [
            "788b7748d8204c6ea0a1563e3b7e428b",
            "a4df7de8c1344a15bdb23889a38c20e5",
            "a423c9b5888746ba9fa36a2f01b4038d",
            "3d8a719dc4884426a5d2c9c47a1009fb",
            "8571b3b128604e5eb5cd4579c6d515d6",
            "13e49ead6a934470ad75ff501e0166d7",
            "59fff94663cd486fae82da053bb5f288",
            "8b347cafa3a542ad8ef2897c7659d5ea"
          ]
        },
        "id": "cNcH7HX_x47d",
        "outputId": "799e7781-d349-495f-d7fb-72876ed8d4fa"
      },
      "source": [
        "train_transform = transforms.Compose([\n",
        "    transforms.Resize(224),\n",
        "    transforms.RandomHorizontalFlip(p=.40),\n",
        "    transforms.RandomRotation(30),\n",
        "    transforms.ToTensor(),\n",
        "    transforms.Normalize([0.485, 0.456, 0.406], [0.229, 0.224, 0.225])])\n",
        "\n",
        "test_transform = transforms.Compose([\n",
        "    transforms.Resize(224),\n",
        "    transforms.ToTensor(),\n",
        "    transforms.Normalize([0.485, 0.456, 0.406], [0.229, 0.224, 0.225])])\n",
        "\n",
        "traindata = torchvision.datasets.CIFAR10(root='.', train=True,download=True , transform=train_transform)\n",
        "trainset,valset = random_split(traindata,[42000,8000])\n",
        "trainloader = torch.utils.data.DataLoader(trainset, batch_size=64,shuffle=True)\n",
        "valloader = torch.utils.data.DataLoader(valset, batch_size=64,shuffle=False)\n",
        "\n",
        "testset = torchvision.datasets.CIFAR10(root='.', train=False,download=False, transform=test_transform)\n",
        "testloader = torch.utils.data.DataLoader(testset, batch_size=64,shuffle=False)\n",
        "\n",
        "classes = ('plane', 'car', 'bird', 'cat','deer', 'dog', 'frog', 'horse', 'ship', 'truck')"
      ],
      "execution_count": null,
      "outputs": [
        {
          "output_type": "stream",
          "text": [
            "Downloading https://www.cs.toronto.edu/~kriz/cifar-10-python.tar.gz to ./cifar-10-python.tar.gz\n"
          ],
          "name": "stdout"
        },
        {
          "output_type": "display_data",
          "data": {
            "application/vnd.jupyter.widget-view+json": {
              "model_id": "788b7748d8204c6ea0a1563e3b7e428b",
              "version_major": 2,
              "version_minor": 0
            },
            "text/plain": [
              "HBox(children=(FloatProgress(value=0.0, max=170498071.0), HTML(value='')))"
            ]
          },
          "metadata": {
            "tags": []
          }
        },
        {
          "output_type": "stream",
          "text": [
            "\n",
            "Extracting ./cifar-10-python.tar.gz to .\n"
          ],
          "name": "stdout"
        }
      ]
    },
    {
      "cell_type": "code",
      "metadata": {
        "colab": {
          "base_uri": "https://localhost:8080/",
          "height": 99,
          "referenced_widgets": [
            "478917cfaa8f4350900339e04af999cd",
            "9d332c11b01d4d74b7789590a8fcf93c",
            "3a1c49af90fd4bffa9743dbf2bcbfbfe",
            "931a4e47c0d0471db898892bb2a2d5f0",
            "9811c33335b44320960c984d3396a4c3",
            "3d7e7136484c4c9186acc8ac91da0041",
            "de2f908acc264ed98abd86c7efa1a4f4",
            "784792819de84836b95c417304779a39"
          ]
        },
        "id": "QsDI4r7bx-ID",
        "outputId": "960482b4-ed06-41d1-a4bd-08c9cf7506e6"
      },
      "source": [
        "class Model(nn.Module):\n",
        "    def __init__(self):\n",
        "        super().__init__()\n",
        "        base = models.resnext50_32x4d(pretrained=True)\n",
        "        self.base = nn.Sequential(*list(base.children())[:-1])\n",
        "        in_features = base.fc.in_features\n",
        "        self.drop = nn.Dropout()\n",
        "        self.final = nn.Linear(in_features,10)\n",
        "    \n",
        "    def forward(self,x):\n",
        "        x = self.base(x)\n",
        "        x = self.drop(x.view(-1,self.final.in_features))\n",
        "        return self.final(x)\n",
        "    \n",
        "model = Model().cuda()\n",
        "[x for x,y in model.named_children()]"
      ],
      "execution_count": null,
      "outputs": [
        {
          "output_type": "stream",
          "text": [
            "Downloading: \"https://download.pytorch.org/models/resnext50_32x4d-7cdf4587.pth\" to /root/.cache/torch/hub/checkpoints/resnext50_32x4d-7cdf4587.pth\n"
          ],
          "name": "stderr"
        },
        {
          "output_type": "display_data",
          "data": {
            "application/vnd.jupyter.widget-view+json": {
              "model_id": "478917cfaa8f4350900339e04af999cd",
              "version_major": 2,
              "version_minor": 0
            },
            "text/plain": [
              "HBox(children=(FloatProgress(value=0.0, max=100441675.0), HTML(value='')))"
            ]
          },
          "metadata": {
            "tags": []
          }
        },
        {
          "output_type": "stream",
          "text": [
            "\n"
          ],
          "name": "stdout"
        },
        {
          "output_type": "execute_result",
          "data": {
            "text/plain": [
              "['base', 'drop', 'final']"
            ]
          },
          "metadata": {
            "tags": []
          },
          "execution_count": 4
        }
      ]
    },
    {
      "cell_type": "code",
      "metadata": {
        "id": "lADEROXhyEEd"
      },
      "source": [
        "criterion = nn.CrossEntropyLoss()\n",
        "param_groups = [\n",
        "    {'params':model.base.parameters(),'lr':.0001},\n",
        "    {'params':model.final.parameters(),'lr':.001}\n",
        "]\n",
        "optimizer = Adam(param_groups)\n",
        "lr_scheduler = lr_scheduler.StepLR(optimizer, step_size=1, gamma=0.1)\n",
        "states = {}"
      ],
      "execution_count": null,
      "outputs": []
    },
    {
      "cell_type": "code",
      "metadata": {
        "colab": {
          "base_uri": "https://localhost:8080/"
        },
        "id": "NddzVFSsyGAR",
        "outputId": "64cc175f-1084-4ced-c370-bdb21c3dfb13"
      },
      "source": [
        "%%time\n",
        "best_val_acc = -1000\n",
        "best_val_model = None\n",
        "for epoch in range(5):  \n",
        "    model.train(True)\n",
        "    running_loss = 0.0\n",
        "    running_acc = 0\n",
        "    for i, data in enumerate(trainloader, 0):\n",
        "        inputs, labels = data\n",
        "        inputs, labels = inputs.cuda(),labels.cuda()\n",
        "\n",
        "        optimizer.zero_grad()\n",
        "        outputs = model(inputs)\n",
        "        loss = criterion(outputs, labels)\n",
        "        loss.backward()\n",
        "        optimizer.step()\n",
        "\n",
        "        # print statistics\n",
        "        running_loss += loss.item() * inputs.size(0)\n",
        "        out = torch.argmax(outputs.detach(),dim=1)\n",
        "        assert out.shape==labels.shape\n",
        "        running_acc += (labels==out).sum().item()\n",
        "    print(f\"Train loss {epoch+1}: {running_loss/len(trainset)},Train Acc:{running_acc*100/len(trainset)}%\")\n",
        "    \n",
        "    correct = 0\n",
        "    model.train(False)\n",
        "    with torch.no_grad():\n",
        "        for inputs,labels in valloader:\n",
        "            out = model(inputs.cuda()).cpu()\n",
        "            out = torch.argmax(out,dim=1)\n",
        "            acc = (out==labels).sum().item()\n",
        "            correct += acc\n",
        "    print(f\"Val accuracy:{correct*100/len(valset)}%\")\n",
        "    if correct>best_val_acc:\n",
        "        best_val_acc = correct\n",
        "        best_val_model = deepcopy(model.state_dict())\n",
        "    lr_scheduler.step()\n",
        "    \n",
        "print('Finished Training')  "
      ],
      "execution_count": null,
      "outputs": [
        {
          "output_type": "stream",
          "text": [
            "/usr/local/lib/python3.7/dist-packages/torch/nn/functional.py:718: UserWarning: Named tensors and all their associated APIs are an experimental feature and subject to change. Please do not use them for anything important until they are released as stable. (Triggered internally at  /pytorch/c10/core/TensorImpl.h:1156.)\n",
            "  return torch.max_pool2d(input, kernel_size, stride, padding, dilation, ceil_mode)\n"
          ],
          "name": "stderr"
        },
        {
          "output_type": "stream",
          "text": [
            "Train loss 1: 0.3572901903901781,Train Acc:88.0047619047619%\n",
            "Val accuracy:93.775%\n",
            "Train loss 2: 0.11256230146686236,Train Acc:96.20238095238095%\n",
            "Val accuracy:95.75%\n",
            "Train loss 3: 0.08092845539961542,Train Acc:97.37857142857143%\n",
            "Val accuracy:95.975%\n",
            "Train loss 4: 0.07679698989717733,Train Acc:97.44285714285714%\n",
            "Val accuracy:95.975%\n",
            "Train loss 5: 0.07340107553132942,Train Acc:97.61190476190477%\n",
            "Val accuracy:96.05%\n",
            "Finished Training\n",
            "CPU times: user 30min 41s, sys: 25min 8s, total: 55min 50s\n",
            "Wall time: 55min 52s\n"
          ],
          "name": "stdout"
        }
      ]
    },
    {
      "cell_type": "code",
      "metadata": {
        "colab": {
          "base_uri": "https://localhost:8080/"
        },
        "id": "y2f7-OoZyIFN",
        "outputId": "b87de18c-7d5d-4820-f474-7082be667d0b"
      },
      "source": [
        "%%time\n",
        "correct = 0\n",
        "model.load_state_dict(best_val_model)\n",
        "model.train(False)\n",
        "with torch.no_grad():\n",
        "    for inputs,labels in testloader:\n",
        "        out = model(inputs.cuda()).cpu()\n",
        "        out = torch.argmax(out,dim=1)\n",
        "        acc = (out==labels).sum().item()\n",
        "        \n",
        "        correct += acc\n",
        "print(f\"Test accuracy: {correct*100/len(testset)}%\")"
      ],
      "execution_count": null,
      "outputs": [
        {
          "output_type": "stream",
          "text": [
            "Test accuracy: 96.57%\n",
            "CPU times: user 50.6 s, sys: 877 ms, total: 51.4 s\n",
            "Wall time: 51.4 s\n"
          ],
          "name": "stdout"
        }
      ]
    },
    {
      "cell_type": "code",
      "metadata": {
        "id": "Yj88vJ9tB9PC",
        "colab": {
          "base_uri": "https://localhost:8080/",
          "height": 514
        },
        "outputId": "b34ab303-2fbe-4410-8533-dee7b8f475a8"
      },
      "source": [
        "import matplotlib.pyplot as plt\n",
        "plt.rcParams['figure.figsize'] = (10,8)\n",
        "train_losses = [ 0.3572901903901781,0.11256230146686236, 0.08092845539961542, 0.07679698989717733,0.07340107553132942]\n",
        "val_acc = [93.775,95.975,95.975,95.975,96.05]\n",
        "epochs = [1,2,3,4,5]\n",
        "plt.subplot(1,2,1)\n",
        "plt.plot(epochs,train_losses)\n",
        "plt.xlabel('epochs')\n",
        "plt.ylabel('train_losses')\n",
        "plt.subplot(1,2,2)\n",
        "plt.plot(epochs,val_acc)\n",
        "plt.xlabel('epochs')\n",
        "plt.ylabel('val_accuracy')"
      ],
      "execution_count": 1,
      "outputs": [
        {
          "output_type": "execute_result",
          "data": {
            "text/plain": [
              "Text(0, 0.5, 'val_accuracy')"
            ]
          },
          "metadata": {
            "tags": []
          },
          "execution_count": 1
        },
        {
          "output_type": "display_data",
          "data": {
            "image/png": "[encoded data removed]",
            "text/plain": [
              "<Figure size 720x576 with 2 Axes>"
            ]
          },
          "metadata": {
            "tags": [],
            "needs_background": "light"
          }
        }
      ]
    }
  ]
}