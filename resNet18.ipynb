{
  "nbformat": 4,
  "nbformat_minor": 0,
  "metadata": {
    "colab": {
      "name": "resNet18.ipynb",
      "provenance": [],
      "collapsed_sections": []
    },
    "kernelspec": {
      "display_name": "Python 3",
      "language": "python",
      "name": "python3"
    },
    "language_info": {
      "codemirror_mode": {
        "name": "ipython",
        "version": 3
      },
      "file_extension": ".py",
      "mimetype": "text/x-python",
      "name": "python",
      "nbconvert_exporter": "python",
      "pygments_lexer": "ipython3",
      "version": "3.7.6"
    }
  },
  "cells": [
    {
      "cell_type": "code",
      "metadata": {
        "id": "d2Km7pTqxxJz"
      },
      "source": [
        "%matplotlib inline\n",
        "from copy import deepcopy\n",
        "from collections import OrderedDict\n",
        "import gc\n",
        "import matplotlib.pyplot as plt\n",
        "from tqdm import tqdm_notebook\n",
        "import numpy as np\n",
        "import pandas as pd\n",
        "import torch\n",
        "import torch.nn as nn\n",
        "import torch.nn.functional as F\n",
        "from torch.optim import SGD,Adam,lr_scheduler\n",
        "from torch.utils.data import random_split\n",
        "import torchvision\n",
        "from torchvision import transforms,models"
      ],
      "execution_count": null,
      "outputs": []
    },
    {
      "cell_type": "code",
      "metadata": {
        "colab": {
          "base_uri": "https://localhost:8080/"
        },
        "id": "llf4-s-3x0OT",
        "outputId": "ce0f7c3d-33dc-46cd-8afb-61408452eec5"
      },
      "source": [
        "!tar -zxvf ../input/cifar10-python/cifar-10-python.tar.gz\n"
      ],
      "execution_count": null,
      "outputs": [
        {
          "output_type": "stream",
          "text": [
            "tar (child): ../input/cifar10-python/cifar-10-python.tar.gz: Cannot open: No such file or directory\n",
            "tar (child): Error is not recoverable: exiting now\n",
            "tar: Child returned status 2\n",
            "tar: Error is not recoverable: exiting now\n"
          ],
          "name": "stdout"
        }
      ]
    },
    {
      "cell_type": "code",
      "metadata": {
        "colab": {
          "base_uri": "https://localhost:8080/"
        },
        "id": "cNcH7HX_x47d",
        "outputId": "130e5af1-b793-4fc2-db1d-4377df649592"
      },
      "source": [
        "train_transform = transforms.Compose([\n",
        "    transforms.Resize(224),\n",
        "    transforms.RandomHorizontalFlip(p=.40),\n",
        "    transforms.RandomRotation(30),\n",
        "    transforms.ToTensor(),\n",
        "    transforms.Normalize([0.485, 0.456, 0.406], [0.229, 0.224, 0.225])])\n",
        "\n",
        "test_transform = transforms.Compose([\n",
        "    transforms.Resize(224),\n",
        "    transforms.ToTensor(),\n",
        "    transforms.Normalize([0.485, 0.456, 0.406], [0.229, 0.224, 0.225])])\n",
        "\n",
        "traindata = torchvision.datasets.CIFAR10(root='.', train=True,download=True , transform=train_transform)\n",
        "trainset,valset = random_split(traindata,[42000,8000])\n",
        "trainloader = torch.utils.data.DataLoader(trainset, batch_size=64,shuffle=True)\n",
        "valloader = torch.utils.data.DataLoader(valset, batch_size=64,shuffle=False)\n",
        "\n",
        "testset = torchvision.datasets.CIFAR10(root='.', train=False,download=False, transform=test_transform)\n",
        "testloader = torch.utils.data.DataLoader(testset, batch_size=64,shuffle=False)\n",
        "\n",
        "classes = ('plane', 'car', 'bird', 'cat','deer', 'dog', 'frog', 'horse', 'ship', 'truck')"
      ],
      "execution_count": null,
      "outputs": [
        {
          "output_type": "stream",
          "text": [
            "Files already downloaded and verified\n"
          ],
          "name": "stdout"
        }
      ]
    },
    {
      "cell_type": "code",
      "metadata": {
        "colab": {
          "base_uri": "https://localhost:8080/"
        },
        "id": "QsDI4r7bx-ID",
        "outputId": "e00aa9fd-b1b4-4dfb-93f4-20afe6018af9"
      },
      "source": [
        "class Model(nn.Module):\n",
        "    def __init__(self):\n",
        "        super().__init__()\n",
        "        base = models.resnet18(pretrained=True)\n",
        "        self.base = nn.Sequential(*list(base.children())[:-1])\n",
        "        in_features = base.fc.in_features\n",
        "        self.drop = nn.Dropout()\n",
        "        self.final = nn.Linear(in_features,10)\n",
        "    \n",
        "    def forward(self,x):\n",
        "        x = self.base(x)\n",
        "        x = self.drop(x.view(-1,self.final.in_features))\n",
        "        return self.final(x)\n",
        "    \n",
        "model = Model().cuda()\n",
        "[x for x,y in model.named_children()]"
      ],
      "execution_count": null,
      "outputs": [
        {
          "output_type": "execute_result",
          "data": {
            "text/plain": [
              "['base', 'drop', 'final']"
            ]
          },
          "metadata": {
            "tags": []
          },
          "execution_count": 4
        }
      ]
    },
    {
      "cell_type": "code",
      "metadata": {
        "id": "lADEROXhyEEd"
      },
      "source": [
        "criterion = nn.CrossEntropyLoss()\n",
        "param_groups = [\n",
        "    {'params':model.base.parameters(),'lr':.0001},\n",
        "    {'params':model.final.parameters(),'lr':.001}\n",
        "]\n",
        "optimizer = Adam(param_groups)\n",
        "lr_scheduler = lr_scheduler.StepLR(optimizer, step_size=1, gamma=0.1)\n",
        "states = {}"
      ],
      "execution_count": null,
      "outputs": []
    },
    {
      "cell_type": "code",
      "metadata": {
        "colab": {
          "base_uri": "https://localhost:8080/"
        },
        "id": "NddzVFSsyGAR",
        "outputId": "5969ebd6-e7f8-4629-f223-6688408eea64"
      },
      "source": [
        "%%time\n",
        "best_val_acc = -1000\n",
        "best_val_model = None\n",
        "for epoch in range(5):  \n",
        "    model.train(True)\n",
        "    running_loss = 0.0\n",
        "    running_acc = 0\n",
        "    for i, data in enumerate(trainloader, 0):\n",
        "        inputs, labels = data\n",
        "        inputs, labels = inputs.cuda(),labels.cuda()\n",
        "\n",
        "        optimizer.zero_grad()\n",
        "        outputs = model(inputs)\n",
        "        loss = criterion(outputs, labels)\n",
        "        loss.backward()\n",
        "        optimizer.step()\n",
        "\n",
        "        # print statistics\n",
        "        running_loss += loss.item() * inputs.size(0)\n",
        "        out = torch.argmax(outputs.detach(),dim=1)\n",
        "        assert out.shape==labels.shape\n",
        "        running_acc += (labels==out).sum().item()\n",
        "    print(f\"Train loss {epoch+1}: {running_loss/len(trainset)},Train Acc:{running_acc*100/len(trainset)}%\")\n",
        "    \n",
        "    correct = 0\n",
        "    model.train(False)\n",
        "    with torch.no_grad():\n",
        "        for inputs,labels in valloader:\n",
        "            out = model(inputs.cuda()).cpu()\n",
        "            out = torch.argmax(out,dim=1)\n",
        "            acc = (out==labels).sum().item()\n",
        "            correct += acc\n",
        "    print(f\"Val accuracy:{correct*100/len(valset)}%\")\n",
        "    if correct>best_val_acc:\n",
        "        best_val_acc = correct\n",
        "        best_val_model = deepcopy(model.state_dict())\n",
        "    lr_scheduler.step()\n",
        "    \n",
        "print('Finished Training')  "
      ],
      "execution_count": null,
      "outputs": [
        {
          "output_type": "stream",
          "text": [
            "Train loss 1: 0.5036816781702496,Train Acc:82.62619047619047%\n",
            "Val accuracy:90.0375%\n",
            "Train loss 2: 0.21972936637628646,Train Acc:92.3952380952381%\n",
            "Val accuracy:92.5875%\n",
            "Train loss 3: 0.19656409499191102,Train Acc:93.27380952380952%\n",
            "Val accuracy:93.2875%\n",
            "Train loss 4: 0.1907830688499269,Train Acc:93.69047619047619%\n",
            "Val accuracy:92.825%\n",
            "Train loss 5: 0.19326239781152635,Train Acc:93.45476190476191%\n",
            "Val accuracy:93.1625%\n",
            "Finished Training\n",
            "CPU times: user 17min 46s, sys: 19.6 s, total: 18min 5s\n",
            "Wall time: 18min 6s\n"
          ],
          "name": "stdout"
        }
      ]
    },
    {
      "cell_type": "code",
      "metadata": {
        "colab": {
          "base_uri": "https://localhost:8080/"
        },
        "id": "y2f7-OoZyIFN",
        "outputId": "3908214f-d8ef-44cd-be28-cb763977147e"
      },
      "source": [
        "%%time\n",
        "correct = 0\n",
        "model.load_state_dict(best_val_model)\n",
        "model.train(False)\n",
        "with torch.no_grad():\n",
        "    for inputs,labels in testloader:\n",
        "        out = model(inputs.cuda()).cpu()\n",
        "        out = torch.argmax(out,dim=1)\n",
        "        acc = (out==labels).sum().item()\n",
        "        \n",
        "        correct += acc\n",
        "print(f\"Test accuracy: {correct*100/len(testset)}%\")"
      ],
      "execution_count": null,
      "outputs": [
        {
          "output_type": "stream",
          "text": [
            "Test accuracy: 94.02%\n",
            "CPU times: user 22.1 s, sys: 627 ms, total: 22.7 s\n",
            "Wall time: 22.8 s\n"
          ],
          "name": "stdout"
        }
      ]
    },
    {
      "cell_type": "code",
      "metadata": {
        "id": "zd5AiL2tKDYs"
      },
      "source": [
        "import seaborn as sns\n",
        "import matplotlib.pyplot as plt\n",
        "train_losses = [0.5036816781702496, 0.21972936637628646,0.19656409499191102,0.1907830688499269,0.19326239781152635]\n",
        "val_acc = [90.0375,92.5875,93.2875,92.825,93.1625]\n",
        "epochs = [1,2,3,4,5]"
      ],
      "execution_count": 4,
      "outputs": []
    },
    {
      "cell_type": "code",
      "metadata": {
        "colab": {
          "base_uri": "https://localhost:8080/",
          "height": 350
        },
        "id": "ZkIwLz5ALzis",
        "outputId": "fea03ba5-fdaa-47fb-c294-ea4dd159fd21"
      },
      "source": [
        "#plot 1:\n",
        "plt.rcParams[\"figure.figsize\"] = (10,5)\n",
        "plt.subplot(1, 2, 1)\n",
        "plt.xlabel('epochs')\n",
        "plt.ylabel('train_losses')\n",
        "plt.plot(epochs,train_losses)\n",
        "plt.title('epoch vs train_losses')\n",
        "#plot 2:\n",
        "plt.subplot(1, 2, 2)\n",
        "plt.xlabel('epochs')\n",
        "plt.ylabel('val_accuracy')\n",
        "plt.plot(epochs,val_acc)\n",
        "plt.title('epoch vs val_accuracy')\n",
        "\n",
        "plt.show()"
      ],
      "execution_count": 6,
      "outputs": [
        {
          "output_type": "display_data",
          "data": {
            "image/png": "[encoded data removed]",
            "text/plain": [
              "<Figure size 720x360 with 2 Axes>"
            ]
          },
          "metadata": {
            "tags": [],
            "needs_background": "light"
          }
        }
      ]
    },
    {
      "cell_type": "code",
      "metadata": {
        "id": "duqvQXpxRLOa"
      },
      "source": [
        ""
      ],
      "execution_count": null,
      "outputs": []
    }
  ]
}